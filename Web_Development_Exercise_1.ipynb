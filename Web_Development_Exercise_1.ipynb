{
  "nbformat": 4,
  "nbformat_minor": 0,
  "metadata": {
    "colab": {
      "name": "Web Development Exercise 1.ipynb",
      "provenance": [],
      "collapsed_sections": [],
      "authorship_tag": "ABX9TyOSqX6KMMFClBwi6ThS3Ixg",
      "include_colab_link": true
    },
    "kernelspec": {
      "name": "python3",
      "display_name": "Python 3"
    },
    "language_info": {
      "name": "python"
    }
  },
  "cells": [
    {
      "cell_type": "markdown",
      "metadata": {
        "id": "view-in-github",
        "colab_type": "text"
      },
      "source": [
        "<a href=\"https://colab.research.google.com/github/vargas0721/Web-Design-and-Development-Lab-58043/blob/main/Web_Development_Exercise_1.ipynb\" target=\"_parent\"><img src=\"https://colab.research.google.com/assets/colab-badge.svg\" alt=\"Open In Colab\"/></a>"
      ]
    },
    {
      "cell_type": "code",
      "execution_count": 6,
      "metadata": {
        "colab": {
          "base_uri": "https://localhost:8080/"
        },
        "id": "Kjy7VdtSlKXA",
        "outputId": "901eb3cb-04a2-4298-84cb-6e87e5492de6"
      },
      "outputs": [
        {
          "output_type": "stream",
          "name": "stdout",
          "text": [
            " Please Enter the radius of a circle: 5\n",
            "Area of a circle = 78.50\n"
          ]
        }
      ],
      "source": [
        "#python program that computes the area of a circle\n",
        "\n",
        "Pi = 3.14 #fix value of pi\n",
        "radius = float(input(' Please Enter the radius of a circle: ')) #to enter the radius of the circle\n",
        "area = Pi * radius * radius  \n",
        "\n",
        "\n",
        "print(\"Area of a circle = %.2f\" %area)\n"
      ]
    }
  ]
}